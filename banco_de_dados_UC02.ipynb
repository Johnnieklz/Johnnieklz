{
  "nbformat": 4,
  "nbformat_minor": 0,
  "metadata": {
    "colab": {
      "provenance": [],
      "authorship_tag": "ABX9TyMlocJ2OB1fYludXGg1iv7N",
      "include_colab_link": true
    },
    "kernelspec": {
      "name": "python3",
      "display_name": "Python 3"
    },
    "language_info": {
      "name": "python"
    }
  },
  "cells": [
    {
      "cell_type": "markdown",
      "metadata": {
        "id": "view-in-github",
        "colab_type": "text"
      },
      "source": [
        "<a href=\"https://colab.research.google.com/github/Johnnieklz/Johnnieklz/blob/main/banco_de_dados_UC02.ipynb\" target=\"_parent\"><img src=\"https://colab.research.google.com/assets/colab-badge.svg\" alt=\"Open In Colab\"/></a>"
      ]
    },
    {
      "cell_type": "markdown",
      "source": [
        "\n",
        "Editar dados de uma tabela com SQLite\n",
        "\n"
      ],
      "metadata": {
        "id": "guVInrZ51S_q"
      }
    },
    {
      "cell_type": "code",
      "source": [
        "import sqlite3\n",
        "\n",
        "conexao = sqlite3.connect('exemplo.db')\n",
        "cursor = conexao.cursor()\n",
        "\n",
        "cursor.execute('UPDATE usuarios SET idade = ? WHERE nome ?', (40, 'Alice'))\n",
        "conexao.commit()\n",
        "\n",
        "conexao.close()"
      ],
      "metadata": {
        "id": "E0FuPeuS1wTL"
      },
      "execution_count": null,
      "outputs": []
    },
    {
      "cell_type": "markdown",
      "source": [
        "Visualizat dados de uma tabela com SQLite"
      ],
      "metadata": {
        "id": "RxLBE_654uTr"
      }
    },
    {
      "cell_type": "code",
      "source": [
        "import sqlite3\n",
        "\n",
        "conexao = sqlite3.connect('exemplo.db')\n",
        "cursor = conexao.cursor()\n",
        "\n",
        "cursor.execute('SELECT * FROM usuarios')\n",
        "dados = cursor.fetchall()\n",
        "\n",
        "for linha in dados:\n",
        "  print (linha)\n",
        "\n",
        "conexao.close()"
      ],
      "metadata": {
        "id": "aeb-z5JO40IT"
      },
      "execution_count": null,
      "outputs": []
    },
    {
      "cell_type": "markdown",
      "source": [
        "Deletar um campo com SQLite"
      ],
      "metadata": {
        "id": "yiWsYafX1obJ"
      }
    },
    {
      "cell_type": "code",
      "source": [
        "import sqlite3\n",
        "\n",
        "conexao = sqlite3.connect('exemplo.db')\n",
        "cursor = conexao.cursor()\n",
        "\n",
        "cursor.execute('DELETE FROM usuarios WHERE id = ? ', (1,))\n",
        "cursor.commit()\n",
        "\n",
        "\n",
        "conexao.close()"
      ],
      "metadata": {
        "id": "ZYPk-1m76y78"
      },
      "execution_count": null,
      "outputs": []
    }
  ]
}